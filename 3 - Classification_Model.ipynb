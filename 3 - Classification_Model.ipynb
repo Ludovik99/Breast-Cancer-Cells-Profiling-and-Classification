{
 "cells": [
  {
   "cell_type": "markdown",
   "id": "deb99cc3-06f8-4be9-ad8c-7a26a2309ad0",
   "metadata": {
    "tags": []
   },
   "source": [
    "# Classifying Breast Tumoral Masses as Benign/Malignant "
   ]
  },
  {
   "cell_type": "markdown",
   "id": "3fddb01e-aa40-4fff-8c7a-55e69b134145",
   "metadata": {},
   "source": [
    "## This notebook is the result of an iterative process of research and testing aimed at finding the best machine learning  model capable of predicting the malignant nature of breast cancer cells based on its morphological characteristics. Further information can be found on the related prospect."
   ]
  },
  {
   "cell_type": "markdown",
   "id": "a03709d2-ccc3-46dc-ac3b-182181eb300a",
   "metadata": {},
   "source": [
    "> Importing the needed modules"
   ]
  },
  {
   "cell_type": "code",
   "execution_count": 122,
   "id": "e35f8c91-d568-4640-bdc0-cc601fff9753",
   "metadata": {},
   "outputs": [],
   "source": [
    "import warnings\n",
    "warnings.filterwarnings('ignore')"
   ]
  },
  {
   "cell_type": "code",
   "execution_count": 123,
   "id": "63f3a1f7-3ad3-4433-b551-d48dbc069dd3",
   "metadata": {},
   "outputs": [],
   "source": [
    "import pandas as pd\n",
    "import numpy as np\n",
    "from sklearn.model_selection import train_test_split\n",
    "from sklearn.linear_model import LogisticRegression\n",
    "from sklearn.ensemble import RandomForestClassifier\n",
    "from xgboost import XGBClassifier\n",
    "from sklearn.model_selection import GridSearchCV\n",
    "from sklearn.metrics import roc_auc_score, f1_score, recall_score, accuracy_score, confusion_matrix, ConfusionMatrixDisplay\n",
    "from matplotlib.colors import Normalize, ListedColormap\n",
    "import matplotlib.pyplot as plt"
   ]
  },
  {
   "cell_type": "markdown",
   "id": "b49c3fd0-eb58-4ef4-814b-668c41bd8c40",
   "metadata": {},
   "source": [
    "> Loading the data"
   ]
  },
  {
   "cell_type": "code",
   "execution_count": 124,
   "id": "265f53f9-b7de-471c-8174-396df67ebe13",
   "metadata": {},
   "outputs": [],
   "source": [
    "import pandas as pd\n",
    "data = pd.read_csv(\"merged_dataframe.csv\")"
   ]
  },
  {
   "cell_type": "markdown",
   "id": "bc02df87-4b94-4885-adac-0b6c37161977",
   "metadata": {},
   "source": [
    "# Data preparation"
   ]
  },
  {
   "cell_type": "markdown",
   "id": "bac6626a-b2a0-459c-87a6-3c6c1870bc65",
   "metadata": {},
   "source": [
    "> Imputing binary values to diagnosis (0 = Benign ; 1 = Malignant)"
   ]
  },
  {
   "cell_type": "code",
   "execution_count": 125,
   "id": "26ceaca8-82f4-42c4-bbe4-24c79e7b20b9",
   "metadata": {},
   "outputs": [],
   "source": [
    "diagnosis_map = {'B': 0, 'M': 1}"
   ]
  },
  {
   "cell_type": "code",
   "execution_count": 126,
   "id": "c51260d3-89de-4579-aa43-97f39c9a3be0",
   "metadata": {},
   "outputs": [],
   "source": [
    "data['diagnosis'] = data['diagnosis'].replace(diagnosis_map)"
   ]
  },
  {
   "cell_type": "markdown",
   "id": "8688649c-5d9c-48fc-90e7-4bb47ce148a6",
   "metadata": {},
   "source": [
    "> Splitting the merged dataset in train/test"
   ]
  },
  {
   "cell_type": "code",
   "execution_count": 127,
   "id": "e87d2e07-7dd3-4076-9d9f-aa0e61a92676",
   "metadata": {},
   "outputs": [],
   "source": [
    "X_train, X_test, y_train, y_test = train_test_split(data.drop(['diagnosis','id'], axis=1),\n",
    "                                                    data['diagnosis'],\n",
    "                                                    test_size=0.2,\n",
    "                                                    stratify=data['diagnosis'],\n",
    "                                                    random_state=42)"
   ]
  },
  {
   "cell_type": "markdown",
   "id": "46b3f44b-be85-4f2c-8b08-a933165cf934",
   "metadata": {},
   "source": [
    "> Scaling the feature sets (X_train, X_test) to apply Logistic Regression"
   ]
  },
  {
   "cell_type": "code",
   "execution_count": 128,
   "id": "69d1574f-3690-4c30-bb61-ea436f12d50e",
   "metadata": {},
   "outputs": [],
   "source": [
    "from sklearn.preprocessing import StandardScaler\n",
    "sc = StandardScaler()"
   ]
  },
  {
   "cell_type": "code",
   "execution_count": 129,
   "id": "c380cc78-220a-4e4e-812c-e3c816462886",
   "metadata": {},
   "outputs": [],
   "source": [
    "sc.fit(X_train)\n",
    "X_train_sc = sc.transform(X_train)\n",
    "X_train_sc = pd.DataFrame(X_train_sc, columns=X_train.columns)"
   ]
  },
  {
   "cell_type": "code",
   "execution_count": 130,
   "id": "74b77af5-6453-45f8-8dff-76d40b5ea012",
   "metadata": {},
   "outputs": [],
   "source": [
    "X_test_sc = sc.transform(X_test)\n",
    "X_test_sc = pd.DataFrame(X_test_sc, columns=X_test.columns)"
   ]
  },
  {
   "cell_type": "markdown",
   "id": "dd6d5840-56cf-4a73-9b10-4a1ada5def6c",
   "metadata": {},
   "source": [
    "# Modelling the data"
   ]
  },
  {
   "cell_type": "markdown",
   "id": "787df9c2-8cc8-497e-811e-38ed8767a41a",
   "metadata": {
    "tags": []
   },
   "source": [
    "> Applying the Logistic Regression model and tuning the hyperparameters"
   ]
  },
  {
   "cell_type": "code",
   "execution_count": 131,
   "id": "3b808e6c-b075-47c5-aed0-dc53fb8d1199",
   "metadata": {},
   "outputs": [],
   "source": [
    "from sklearn.linear_model import LogisticRegression"
   ]
  },
  {
   "cell_type": "code",
   "execution_count": 132,
   "id": "cf917c35-78d9-4cac-a7f2-5a6c4eca5023",
   "metadata": {},
   "outputs": [],
   "source": [
    "LR = LogisticRegression(solver='liblinear', max_iter=1000)\n",
    "parameters = {\n",
    "    'penalty': ['l2', 'l1'],\n",
    "    'C': [0.01, 0.1, 1, 10],\n",
    "}"
   ]
  },
  {
   "cell_type": "code",
   "execution_count": 133,
   "id": "afcdb1f1-7019-4de4-a42d-f113572b33d6",
   "metadata": {},
   "outputs": [],
   "source": [
    "model = GridSearchCV(\n",
    "    LR,                       # this is the instantiated estimator object, that is, the model we want to tune\n",
    "    param_grid=parameters,    # this is the predefined search space\n",
    "    scoring=\"recall\",         # the metric we want the tuner calculates in order to select the best combination\n",
    "    cv=5,                     # the cross-validation schema we want to use\n",
    "    refit=True,               # if we want to fit again the model on the best hyperparameters found after the process\n",
    ")"
   ]
  },
  {
   "cell_type": "code",
   "execution_count": 134,
   "id": "cb715733-7ba5-4d83-a63d-9e6633f35978",
   "metadata": {},
   "outputs": [],
   "source": [
    "model.fit(X_train_sc, y_train)\n",
    "\n",
    "y_val_proba = model.predict_proba(X_test_sc)[:,1]"
   ]
  },
  {
   "cell_type": "code",
   "execution_count": 135,
   "id": "81855487-b7ad-4711-866f-aa16d6be789e",
   "metadata": {},
   "outputs": [
    {
     "name": "stdout",
     "output_type": "stream",
     "text": [
      "Best parameters: {'C': 0.01, 'penalty': 'l1'}\n",
      "Best Recall score obtained for the parameters: 0.9514216575922566\n"
     ]
    }
   ],
   "source": [
    "print(f\"Best parameters: {model.best_params_}\")\n",
    "print(f\"Best Recall score obtained for the parameters: {model.best_score_}\")"
   ]
  },
  {
   "cell_type": "markdown",
   "id": "2bbce39f-dd0f-4b5a-94c3-fa2507fda70c",
   "metadata": {},
   "source": [
    "### From preliminary trials, a Logistic Regression model seemed to be the most appropriate for our problem, combined with a Grid Search for hyperparameters, optimized for Recall.\n",
    "### Given the nature of our classification, Recall has been chosen to minimize the chances of incurring in False Negatives, therefore optimizing the percentage of Positive instances detected (a positive instance refers to a malignant tumor cell).\n",
    "### The grid search approach allows us to select the best hyperparameters to tune our final model. In our case, \"penalty\" refers to the type of regularization to be applied (Lasso regularization in our case) and the parameter \"C\" controls the strength of the regularization. The best Recall score, obtained with said hyperparameters, is equal to ~0.95."
   ]
  },
  {
   "cell_type": "markdown",
   "id": "6eea5e5a-4193-42d8-bf0b-59ce7330219c",
   "metadata": {},
   "source": [
    "> Optimizing for the best threshold"
   ]
  },
  {
   "cell_type": "code",
   "execution_count": 136,
   "id": "43ed6e6f-96b4-452a-b675-c6faed0d7376",
   "metadata": {},
   "outputs": [],
   "source": [
    "y_proba = model.predict_proba(X_test_sc)[:,1]\n",
    "\n",
    "best_threshold = 0\n",
    "best_score = 0\n",
    "for threshold in np.arange(0, 1.05, 0.05):\n",
    "    score = roc_auc_score(y_test, (y_proba >= threshold).astype(int))\n",
    "    if score > best_score:\n",
    "        best_threshold = threshold\n",
    "        best_score = score"
   ]
  },
  {
   "cell_type": "markdown",
   "id": "2a887afe-c7fa-415c-ac2b-7d763a728ded",
   "metadata": {},
   "source": [
    "> Checking for possible overfitting"
   ]
  },
  {
   "cell_type": "code",
   "execution_count": 137,
   "id": "5efc7efe-2c2d-4283-833f-116db40afe0e",
   "metadata": {},
   "outputs": [
    {
     "name": "stdout",
     "output_type": "stream",
     "text": [
      "F1-score on training set: 0.9013157894736842\n",
      "F1-score on test set: 0.9594594594594595\n",
      "Recall on training set: 0.9513888888888888\n",
      "Recall on training set: 0.9861111111111112\n"
     ]
    }
   ],
   "source": [
    "y_train_pred = (model.predict_proba(X_train_sc)[:,1] >= best_threshold).astype(int)\n",
    "y_test_pred = (model.predict_proba(X_test_sc)[:,1] >= best_threshold).astype(int)\n",
    "\n",
    "train_f1 = f1_score(y_train, y_train_pred)\n",
    "train_recall = recall_score(y_train, y_train_pred)\n",
    "test_f1 = f1_score(y_test, y_test_pred)\n",
    "test_recall = recall_score(y_test, y_test_pred)\n",
    "\n",
    "print(\"F1-score on training set:\", train_f1)\n",
    "print(\"F1-score on test set:\", test_f1)\n",
    "print(\"Recall on training set:\", train_recall)\n",
    "print(\"Recall on test set:\", test_recall)"
   ]
  },
  {
   "cell_type": "code",
   "execution_count": 138,
   "id": "508879de-76b5-491c-9109-f88055523ccd",
   "metadata": {},
   "outputs": [
    {
     "name": "stdout",
     "output_type": "stream",
     "text": [
      "True\n",
      "True\n"
     ]
    }
   ],
   "source": [
    "print(train_f1 < test_f1)\n",
    "print(train_recall < test_recall)"
   ]
  },
  {
   "cell_type": "markdown",
   "id": "f7b64aca-78a3-4b8c-bf5b-bddd45f103ee",
   "metadata": {},
   "source": [
    "### Given the higher scores of our model on the test set for both the \"F-1 score\" and our optimization score \"Recall\", we can exclude the presence of overfitting."
   ]
  },
  {
   "cell_type": "markdown",
   "id": "619f78c4-68dd-44ef-a69f-7db28435d56e",
   "metadata": {},
   "source": [
    "> Predicting the classes for our test set (X_test_sc)"
   ]
  },
  {
   "cell_type": "code",
   "execution_count": 139,
   "id": "4aef197f-3b82-494e-b71f-ca461a4dea29",
   "metadata": {},
   "outputs": [],
   "source": [
    "y_pred = model.predict(X_test_sc)"
   ]
  },
  {
   "cell_type": "markdown",
   "id": "453de37b-4a3e-4d9b-8636-bbea58194418",
   "metadata": {},
   "source": [
    "> Generating the confusion matrix"
   ]
  },
  {
   "cell_type": "code",
   "execution_count": 140,
   "id": "5caf2836-f3b1-458e-a59a-7625ecc99c72",
   "metadata": {},
   "outputs": [
    {
     "data": {
      "text/plain": [
       "<sklearn.metrics._plot.confusion_matrix.ConfusionMatrixDisplay at 0x7f77d6af8610>"
      ]
     },
     "execution_count": 140,
     "metadata": {},
     "output_type": "execute_result"
    },
    {
     "data": {
      "image/png": "[encoded data removed]",
      "text/plain": [
       "<Figure size 640x480 with 2 Axes>"
      ]
     },
     "metadata": {},
     "output_type": "display_data"
    }
   ],
   "source": [
    "cm = confusion_matrix(y_test, y_pred)\n",
    "\n",
    "n_classes = len(np.unique(y_test))\n",
    "\n",
    "disp = ConfusionMatrixDisplay(confusion_matrix=cm, display_labels=range(n_classes))\n",
    "disp.plot()"
   ]
  },
  {
   "cell_type": "markdown",
   "id": "3a400bb0-fabd-4587-9131-7780669bb05b",
   "metadata": {},
   "source": [
    "### As the Confusion Matrix suggests, our model labels correctly 71 out of 72 malignant tumor cells (True Positives), the Recall is therefore very satisfying and the F-1 score complements the general findings, for which we correclty predict 117 out of 122 benign tumor cells (True Negatives)."
   ]
  }
 ],
 "metadata": {
  "kernelspec": {
   "display_name": "Python 3 (ipykernel)",
   "language": "python",
   "name": "python3"
  },
  "language_info": {
   "codemirror_mode": {
    "name": "ipython",
    "version": 3
   },
   "file_extension": ".py",
   "mimetype": "text/x-python",
   "name": "python",
   "nbconvert_exporter": "python",
   "pygments_lexer": "ipython3",
   "version": "3.9.12"
  }
 },
 "nbformat": 4,
 "nbformat_minor": 5
}
